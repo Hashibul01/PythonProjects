{
 "cells": [
  {
   "cell_type": "code",
   "id": "ebdbf889",
   "metadata": {},
   "source": [
    "# My First Python Project (Tic Tac Toe)\n",
    "\n",
    "# 22/06/2023"
   ]
  },
  {
   "cell_type": "code",
   "execution_count": 1,
   "id": "0f74cacd",
   "metadata": {},
   "outputs": [
    {
     "data": {
      "text/plain": [
       "\"    \\ndisplay_board function creates the board for the game. It replicates the num pad for positioning. clear_output() clears\\nexisting output in console for a cleaner view. Positions are filled with corresponding elements from 'board'\\n\""
      ]
     },
     "execution_count": 1,
     "metadata": {},
     "output_type": "execute_result"
    }
   ],
   "source": [
    "from IPython.display import clear_output\n",
    "\n",
    "def display_board(board):\n",
    "    clear_output()\n",
    "    \n",
    "    print('   |   |')\n",
    "    print(' ' + board[7] + ' | ' + board[8] + ' | ' + board[9])\n",
    "    print('   |   |')\n",
    "    print('-----------')\n",
    "    print('   |   |')\n",
    "    print(' ' + board[4] + ' | ' + board[5] + ' | ' + board[6])\n",
    "    print('   |   |')\n",
    "    print('-----------')\n",
    "    print('   |   |')\n",
    "    print(' ' + board[1] + ' | ' + board[2] + ' | ' + board[3])\n",
    "    print('   |   |')\n",
    "    \n",
    "'''    \n",
    "display_board function creates the board for the game. It replicates the num pad for positioning. clear_output() clears\n",
    "existing output in console for a cleaner view. Positions are filled with corresponding elements from 'board'\n",
    "'''\n",
    "\n",
    "    \n"
   ]
  },
  {
   "cell_type": "code",
   "execution_count": 2,
   "id": "86cd5f13",
   "metadata": {},
   "outputs": [
    {
     "data": {
      "text/plain": [
       "\"\\nplayer_input() function assigns players to the marker. The marker is set as empty string. The while loop checks if the player \\nchose a valid letter (X or O), if invalid, the loop will prompt the user to choose until a valid choice has been made. \\n\\nInside the loop, the function prompts user to choose a marker. The input converts the choice to upper case.\\n\\nIf the player chooses 'X', the marker will return as ('X','O') meaning, 'X' will be assigned to the first player and vice-versa.\\n\\nThe choice returns a tuple where the first position indicates player 1's choice and second position indicates player 2's choice.\\n\\n\""
      ]
     },
     "execution_count": 2,
     "metadata": {},
     "output_type": "execute_result"
    }
   ],
   "source": [
    "def player_input():\n",
    "    marker = ''\n",
    "    \n",
    "    while not (marker == 'X' or marker =='O'):\n",
    "        marker = input('Player 1: Do you choose X or O?').upper()\n",
    "        \n",
    "    if marker == 'X':\n",
    "        return ('X','O')\n",
    "    else:\n",
    "        return ('O','X')\n",
    "        \n",
    "\n",
    "'''\n",
    "player_input() function assigns players to the marker. The marker is set as empty string. The while loop checks if the player \n",
    "chose a valid letter (X or O), if invalid, the loop will prompt the user to choose until a valid choice has been made. \n",
    "\n",
    "Inside the loop, the function prompts user to choose a marker. The input converts the choice to upper case.\n",
    "\n",
    "If the player chooses 'X', the marker will return as ('X','O') meaning, 'X' will be assigned to the first player and vice-versa.\n",
    "\n",
    "The choice returns a tuple where the first position indicates player 1's choice and second position indicates player 2's choice.\n",
    "\n",
    "'''\n",
    "\n",
    "        "
   ]
  },
  {
   "cell_type": "code",
   "execution_count": 3,
   "id": "1372b05a",
   "metadata": {},
   "outputs": [
    {
     "name": "stdout",
     "output_type": "stream",
     "text": [
      "Player 1: Do you choose X or O?x\n"
     ]
    },
    {
     "data": {
      "text/plain": [
       "'\\nTesting player input function\\n'"
      ]
     },
     "execution_count": 3,
     "metadata": {},
     "output_type": "execute_result"
    }
   ],
   "source": [
    "player_input()\n",
    "\n",
    "'''\n",
    "Testing player input function\n",
    "'''"
   ]
  },
  {
   "cell_type": "code",
   "execution_count": 4,
   "id": "e982012e",
   "metadata": {},
   "outputs": [
    {
     "data": {
      "text/plain": [
       "\"\\nplace_marker function places the symbol (x or o) into the board depending on the position. The function takes in 3 arguments:\\nboard, marker, position. Executing the function replaces the board's position with the marker. the If statements act as \\nbounds checking to ensure the player chooses positions that are within the board or are empty.\\n\\n\""
      ]
     },
     "execution_count": 4,
     "metadata": {},
     "output_type": "execute_result"
    }
   ],
   "source": [
    "def place_marker(board, marker, position):\n",
    "    if position < 1 or position > 9:\n",
    "        print(\"Invalid position. Please choose a number between 1 and 9.\")\n",
    "        return\n",
    "    \n",
    "    if board[position] != ' ':\n",
    "        print(\"Position already occupied. Please choose an empty position.\")\n",
    "        return\n",
    "    \n",
    "    board[position] = marker\n",
    "    \n",
    "'''\n",
    "place_marker function places the symbol (x or o) into the board depending on the position. The function takes in 3 arguments:\n",
    "board, marker, position. Executing the function replaces the board's position with the marker. the If statements act as \n",
    "bounds checking to ensure the player chooses positions that are within the board or are empty.\n",
    "\n",
    "'''"
   ]
  },
  {
   "cell_type": "code",
   "execution_count": 5,
   "id": "33a4883b",
   "metadata": {},
   "outputs": [
    {
     "name": "stdout",
     "output_type": "stream",
     "text": [
      "   |   |\n",
      " X | O | X\n",
      "   |   |\n",
      "-----------\n",
      "   |   |\n",
      " O | X | O\n",
      "   |   |\n",
      "-----------\n",
      "   |   |\n",
      " X | O | X\n",
      "   |   |\n"
     ]
    },
    {
     "data": {
      "text/plain": [
       "'\\nTesting whether the board displays the markers\\n'"
      ]
     },
     "execution_count": 5,
     "metadata": {},
     "output_type": "execute_result"
    }
   ],
   "source": [
    "test_board = ['#','X','O','X','O','X','O','X','O','X']\n",
    "display_board(test_board)\n",
    "\n",
    "'''\n",
    "Testing whether the board displays the markers\n",
    "'''"
   ]
  },
  {
   "cell_type": "code",
   "execution_count": 6,
   "id": "d0652616",
   "metadata": {},
   "outputs": [
    {
     "name": "stdout",
     "output_type": "stream",
     "text": [
      "   |   |\n",
      " X | O | X\n",
      "   |   |\n",
      "-----------\n",
      "   |   |\n",
      " O | X | O\n",
      "   |   |\n",
      "-----------\n",
      "   |   |\n",
      " X | O | X\n",
      "   |   |\n"
     ]
    },
    {
     "data": {
      "text/plain": [
       "'\\nTesting place_marker function\\n'"
      ]
     },
     "execution_count": 6,
     "metadata": {},
     "output_type": "execute_result"
    }
   ],
   "source": [
    "place_marker(test_board,'&', 9)\n",
    "display_board(test_board)\n",
    "\n",
    "'''\n",
    "Testing place_marker function\n",
    "'''"
   ]
  },
  {
   "cell_type": "code",
   "execution_count": 7,
   "id": "62b34e85",
   "metadata": {},
   "outputs": [
    {
     "data": {
      "text/plain": [
       "\"\\nwin_check function checks whether the markers are aligned as per tic tac toe's rules to determine a winner. The function returns\\na boolean value where, if true, the game is completed. The function takes in 2 arguments, board and mark. \\n\""
      ]
     },
     "execution_count": 7,
     "metadata": {},
     "output_type": "execute_result"
    }
   ],
   "source": [
    "def win_check(board,mark):\n",
    "    return((board[7]== mark and board[8]== mark and board[9]== mark) or #Horizontal Top\n",
    "          (board[4]== mark and board[5]== mark and board[6]== mark) or #Horizontal Middle\n",
    "          (board[1]== mark and board[2]== mark and board[3]== mark) or #Horizontal Bottom\n",
    "          (board[1]== mark and board[5]== mark and board[9]== mark) or #Diagonal bottom left to top right\n",
    "          (board[3]== mark and board[5]== mark and board[7]== mark)) #Diagonal bottom right to top left\n",
    "\n",
    "'''\n",
    "win_check function checks whether the markers are aligned as per tic tac toe's rules to determine a winner. The function returns\n",
    "a boolean value where, if true, the game is completed. The function takes in 2 arguments, board and mark. \n",
    "'''"
   ]
  },
  {
   "cell_type": "code",
   "execution_count": 8,
   "id": "085e5724",
   "metadata": {},
   "outputs": [
    {
     "data": {
      "text/plain": [
       "False"
      ]
     },
     "execution_count": 8,
     "metadata": {},
     "output_type": "execute_result"
    }
   ],
   "source": [
    "win_check(test_board,'O')\n",
    "\n",
    "#Testing win_check function"
   ]
  },
  {
   "cell_type": "code",
   "execution_count": 9,
   "id": "b45b73f9",
   "metadata": {},
   "outputs": [
    {
     "data": {
      "text/plain": [
       "'\\nchoose_first function uses random.randint from random module to select a number between 0 and 1. If statement checks if the \\ninteger is 0, in which case, the first player will be Player 1, else, the first player will be Player 2\\n'"
      ]
     },
     "execution_count": 9,
     "metadata": {},
     "output_type": "execute_result"
    }
   ],
   "source": [
    "import random \n",
    "\n",
    "def choose_first():\n",
    "    if random.randint(0,1) == 0:\n",
    "        return 'Player 1'\n",
    "    else:\n",
    "        return 'Player 2'\n",
    "    \n",
    "'''\n",
    "choose_first function uses random.randint from random module to select a number between 0 and 1. If statement checks if the \n",
    "integer is 0, in which case, the first player will be Player 1, else, the first player will be Player 2\n",
    "'''"
   ]
  },
  {
   "cell_type": "code",
   "execution_count": 10,
   "id": "31256584",
   "metadata": {},
   "outputs": [
    {
     "data": {
      "text/plain": [
       "'Player 2'"
      ]
     },
     "execution_count": 10,
     "metadata": {},
     "output_type": "execute_result"
    }
   ],
   "source": [
    "choose_first()\n",
    "\n",
    "#Checking choose_first function"
   ]
  },
  {
   "cell_type": "code",
   "execution_count": 11,
   "id": "3916805a",
   "metadata": {},
   "outputs": [
    {
     "data": {
      "text/plain": [
       "'\\nspace_check function accepts 2 arguments (board and position). The function returns a boolean True if the position is empty/'"
      ]
     },
     "execution_count": 11,
     "metadata": {},
     "output_type": "execute_result"
    }
   ],
   "source": [
    "def space_check(board, position):\n",
    "    return board[position] == ' '\n",
    "    \n",
    "'''\n",
    "space_check function accepts 2 arguments (board and position). The function returns a boolean True if the position is empty/\\\n",
    "'''"
   ]
  },
  {
   "cell_type": "code",
   "execution_count": 12,
   "id": "54f2d634",
   "metadata": {},
   "outputs": [
    {
     "data": {
      "text/plain": [
       "False"
      ]
     },
     "execution_count": 12,
     "metadata": {},
     "output_type": "execute_result"
    }
   ],
   "source": [
    "space_check(test_board,5)\n",
    "\n",
    "#space_check function test"
   ]
  },
  {
   "cell_type": "code",
   "execution_count": 13,
   "id": "773aa135",
   "metadata": {},
   "outputs": [
    {
     "data": {
      "text/plain": [
       "\"\\nfull_board function checks if the board is full. The for loop iterates over 1-10 (exclusive, checks 1-9) spaces on the board.\\nInside the loop, the if statement checks, for each value of i, the position whether its empty or full. space_check(board,i)\\nis assumed to return True if the position is empty and 'False' if it occupies. If the function returns 'True', the function\\nthen immediately returns 'False' indicating the board is empty. \\n\\nIf the loop completes without finding any empty position, the function reaches return 'True' indicating the board is full.\\n\\n\""
      ]
     },
     "execution_count": 13,
     "metadata": {},
     "output_type": "execute_result"
    }
   ],
   "source": [
    "def full_board(board):\n",
    "    for i in range(1,10):\n",
    "        if space_check(board,i):\n",
    "            return False\n",
    "    return True\n",
    "\n",
    "'''\n",
    "full_board function checks if the board is full. The for loop iterates over 1-10 (exclusive, checks 1-9) spaces on the board.\n",
    "Inside the loop, the if statement checks, for each value of i, the position whether its empty or full. space_check(board,i)\n",
    "is assumed to return True if the position is empty and 'False' if it occupies. If the function returns 'True', the function\n",
    "then immediately returns 'False' indicating the board is empty. \n",
    "\n",
    "If the loop completes without finding any empty position, the function reaches return 'True' indicating the board is full.\n",
    "\n",
    "'''"
   ]
  },
  {
   "cell_type": "code",
   "execution_count": 14,
   "id": "06fa05ac",
   "metadata": {},
   "outputs": [
    {
     "data": {
      "text/plain": [
       "'\\nplayer_choice function prompts player to choose their next move. The position is initialized as 0. The while loop continues the\\nprompt until a valid position (numbers 1-9 or an empty space (checked using space_check)) is entered. Inside the while loop, \\nthe player is prompted to choose a number between 1-9 which is changed to integer (to be used as a placeholder forward).\\n\\nWhen a valid position is entered, the function returns the postion. \\n\\n'"
      ]
     },
     "execution_count": 14,
     "metadata": {},
     "output_type": "execute_result"
    }
   ],
   "source": [
    "def player_choice(board):\n",
    "    position = 0\n",
    "    \n",
    "    while position not in [1,2,3,4,5,6,7,8,9] or not space_check(board, position):\n",
    "        position = int(input('Choose your next position: (1-9)'))\n",
    "        \n",
    "    return position\n",
    "    \n",
    "'''\n",
    "player_choice function prompts player to choose their next move. The position is initialized as 0. The while loop continues the\n",
    "prompt until a valid position (numbers 1-9 or an empty space (checked using space_check)) is entered. Inside the while loop, \n",
    "the player is prompted to choose a number between 1-9 which is changed to integer (to be used as a placeholder forward).\n",
    "\n",
    "When a valid position is entered, the function returns the postion. \n",
    "\n",
    "'''"
   ]
  },
  {
   "cell_type": "code",
   "execution_count": 15,
   "id": "940a97c2",
   "metadata": {},
   "outputs": [
    {
     "data": {
      "text/plain": [
       "\"\\nreplay function returns a boolean for the user input. The boolean is true if the first letter is 'y'\\n\\n\""
      ]
     },
     "execution_count": 15,
     "metadata": {},
     "output_type": "execute_result"
    }
   ],
   "source": [
    "def replay():\n",
    "    return input('Do you want to play again? Enter Yes or No: ').lower().startswith('y')\n",
    "\n",
    "'''\n",
    "replay function returns a boolean for the user input. The boolean is true if the first letter is 'y'\n",
    "\n",
    "'''\n"
   ]
  },
  {
   "cell_type": "code",
   "execution_count": 16,
   "id": "fb82415d",
   "metadata": {},
   "outputs": [
    {
     "name": "stdout",
     "output_type": "stream",
     "text": [
      "   |   |\n",
      "   |   |  \n",
      "   |   |\n",
      "-----------\n",
      "   |   |\n",
      " X | X |  \n",
      "   |   |\n",
      "-----------\n",
      "   |   |\n",
      " O | O | O\n",
      "   |   |\n",
      "Player 2 has won!\n",
      "Do you want to play again? Enter Yes or No: no\n"
     ]
    }
   ],
   "source": [
    "print(\"Welcome to Hashibul's Tic Tac Toe Game!\")\n",
    "\n",
    "while True: #while loop continues if replay is 'Yes'\n",
    "    #Reset the board\n",
    "    theBoard = [' '] * 10 #places empty values in board positions \n",
    "    p1_marker, p2_marker = player_input() #player_input function assigns markers to p1 and p2\n",
    "    turn = choose_first() #choose_first function determines which player goes first\n",
    "    print(turn + ' will go first.') #displays which player will go first\n",
    "    \n",
    "    play_game = input('Are you ready to play? Enter Yes or No.') \n",
    "    \n",
    "    if play_game.lower()[0] == 'y': #Asks players if they are ready to play. Game starts if the fist letter is 'y'\n",
    "        game_on = True\n",
    "    else:\n",
    "        game_on = False\n",
    "        \n",
    "    while game_on == True: #executes as long as user enters 'Yes' in the previous prompt\n",
    "        if turn == 'Player 1': #if first player is Player 1\n",
    "            \n",
    "            #Player 1's Turn\n",
    "            \n",
    "            display_board(theBoard) #displays the board with 'theBoard' argument\n",
    "            position = player_choice(theBoard) #determines the players next move\n",
    "            place_marker(theBoard, p1_marker, position) #places the marker in board\n",
    "            \n",
    "            if win_check(theBoard, p1_marker): #checks if game is won by player 1\n",
    "                display_board(theBoard)\n",
    "                print('Congratulations! Player 1 won the game!')\n",
    "            else:\n",
    "                if full_board(theBoard): #checks if game is draw\n",
    "                    display_board(theBoard)\n",
    "                    print('The game is draw!')\n",
    "                    break\n",
    "                else:\n",
    "                    turn = 'Player 2' #assigns turn to player 2\n",
    "        else:\n",
    "            #Player 2's Turn\n",
    "            \n",
    "            display_board(theBoard)\n",
    "            position = player_choice(theBoard)\n",
    "            place_marker(theBoard, p2_marker, position)\n",
    "            \n",
    "            if win_check(theBoard,p2_marker):\n",
    "                display_board(theBoard)\n",
    "                print('Player 2 has won!')\n",
    "                game_on = False\n",
    "            else:\n",
    "                if full_board(theBoard):\n",
    "                    display_board(theBoard)\n",
    "                    print('The game is a draw!')\n",
    "                    break\n",
    "                else:\n",
    "                    turn = 'Player 1'\n",
    "                    \n",
    "    if not replay(): #replay function called to ask players if the want to restart, else the code breaks from loop\n",
    "        break\n",
    "            "
   ]
  },
  {
   "cell_type": "code",
   "execution_count": null,
   "id": "d177d722",
   "metadata": {},
   "outputs": [],
   "source": []
  }
 ],
 "metadata": {
  "kernelspec": {
   "display_name": "Python 3 (ipykernel)",
   "language": "python",
   "name": "python3"
  },
  "language_info": {
   "codemirror_mode": {
    "name": "ipython",
    "version": 3
   },
   "file_extension": ".py",
   "mimetype": "text/x-python",
   "name": "python",
   "nbconvert_exporter": "python",
   "pygments_lexer": "ipython3",
   "version": "3.9.13"
  }
 },
 "nbformat": 4,
 "nbformat_minor": 5
}
